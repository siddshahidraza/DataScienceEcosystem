{
 "cells": [
  {
   "cell_type": "markdown",
   "id": "95dba296-4437-4df9-88d9-c4e34b05097a",
   "metadata": {},
   "source": [
    "# Data Science Tools and Ecosystem"
   ]
  },
  {
   "cell_type": "markdown",
   "id": "f313cd5d-578a-4610-b2bb-a5af628f3861",
   "metadata": {},
   "source": [
    "In this notebook, we will explore and summarize various data science tools and the ecosystem they form. We will delve into the essential libraries, frameworks, and environments that are pivotal for data science tasks, providing a comprehensive overview of the tools used by data scientists to manage, analyze, and visualize data effectively."
   ]
  },
  {
   "cell_type": "markdown",
   "id": "ff89af6e-0851-4368-9fb3-97060d6a0459",
   "metadata": {},
   "source": [
    "**Objectives:**\r\n",
    "\r\n",
    "- List popular languages for Data Science.\r\n",
    "- Describe commonly used libraries in Data Science.\r\n",
    "- Identify development environment open-source tools.\r\n",
    "- Convert minutes to hours using Python.\r\n",
    "- Understand basic arithmetic operations in Pthon.\r\n",
    "ython."
   ]
  },
  {
   "cell_type": "markdown",
   "id": "1795e3ac-10ef-42b9-aa78-cb7ae285f3aa",
   "metadata": {},
   "source": [
    "Some of the popular languages that Data Scientists use are:\n",
    "\n",
    "1. Python\n",
    "2. R\n",
    "3. SQL\n",
    "4. Julia\n",
    "5. Scala\n",
    "6. Java\n",
    "7. MATLAB"
   ]
  },
  {
   "cell_type": "markdown",
   "id": "628ab1b2-07a0-4166-ba34-156b08293e0b",
   "metadata": {},
   "source": [
    "Some of the commonly used libraries by Data Scientists include:\n",
    "\n",
    "1. NumPy\n",
    "2. Pandas\n",
    "3. Matplotlib\n",
    "4. Scikit-learn\n",
    "5. TensorFlow\n",
    "6. Keras\n",
    "7. PyTorch\n",
    "8. Seaborn\n",
    "9. SciPy\n",
    "10. XGBoost"
   ]
  },
  {
   "cell_type": "markdown",
   "id": "ca23873f-22f8-4f33-8291-16ca7b4df0c4",
   "metadata": {},
   "source": [
    "| Data Science Tools       |\n",
    "|--------------------------|\n",
    "| Jupyter Notebooks         |\n",
    "| RStudio                   |\n",
    "| Apache Zeppelin           |\n"
   ]
  },
  {
   "cell_type": "markdown",
   "id": "fd4582fa-4fba-4fcb-96c6-9b08cf23bcf7",
   "metadata": {},
   "source": [
    "Here’s a list of arithmetic expressions using variables `x` and `y`:\n",
    "\n",
    "- Addition: `x + y`\n",
    "- Subtraction: `x - y`\n",
    "- Multiplication: `x * y`\n",
    "- Division: `x / y`"
   ]
  },
  {
   "cell_type": "code",
   "execution_count": 1,
   "id": "44c92f4c-896c-44ad-8988-5ecf8d92f266",
   "metadata": {},
   "outputs": [
    {
     "data": {
      "text/plain": [
       "17"
      ]
     },
     "execution_count": 1,
     "metadata": {},
     "output_type": "execute_result"
    }
   ],
   "source": [
    "#This a simple arithmetic expression to mutiply then add integers\n",
    "(3*4)+5"
   ]
  },
  {
   "cell_type": "code",
   "execution_count": 2,
   "id": "70e6e179-9e0b-46de-b3fe-26893ee5f57c",
   "metadata": {},
   "outputs": [
    {
     "data": {
      "text/plain": [
       "3.3333333333333335"
      ]
     },
     "execution_count": 2,
     "metadata": {},
     "output_type": "execute_result"
    }
   ],
   "source": [
    "# This will convert 200 minutes to hours by dividing by 60\n",
    "minutes = 200\n",
    "hours = minutes / 60\n",
    "hours"
   ]
  },
  {
   "cell_type": "code",
   "execution_count": null,
   "id": "359ffc6f-0f01-42b8-be9f-b9ff5b6824b4",
   "metadata": {},
   "outputs": [],
   "source": []
  }
 ],
 "metadata": {
  "kernelspec": {
   "display_name": "Python 3 (ipykernel)",
   "language": "python",
   "name": "python3"
  },
  "language_info": {
   "codemirror_mode": {
    "name": "ipython",
    "version": 3
   },
   "file_extension": ".py",
   "mimetype": "text/x-python",
   "name": "python",
   "nbconvert_exporter": "python",
   "pygments_lexer": "ipython3",
   "version": "3.12.4"
  }
 },
 "nbformat": 4,
 "nbformat_minor": 5
}
